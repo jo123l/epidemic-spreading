{
 "cells": [
  {
   "cell_type": "markdown",
   "metadata": {},
   "source": [
    "# Epidemic Spreading on Graphs\n",
    "\n",
    "In this notebook we model spreading of a disease in a dormitory like enviroment."
   ]
  },
  {
   "cell_type": "markdown",
   "metadata": {},
   "source": [
    "First let us import the required libraries."
   ]
  },
  {
   "cell_type": "code",
   "execution_count": 1,
   "metadata": {},
   "outputs": [],
   "source": [
    "import numpy as np\n",
    "import matplotlib.pyplot as plt\n",
    "from IPython.display import clear_output\n",
    "from ipywidgets import interact\n",
    "import ipywidgets as widgets"
   ]
  },
  {
   "cell_type": "markdown",
   "metadata": {},
   "source": [
    "Then let us define the parameters for building up the dormitory."
   ]
  },
  {
   "cell_type": "code",
   "execution_count": 2,
   "metadata": {},
   "outputs": [],
   "source": [
    "rooms_x = 12\n",
    "rooms_y = 2\n",
    "residents_per_room = 2\n",
    "corridor_width = 4\n",
    "room_distance = 4\n",
    "\n",
    "n_residents = rooms_x * rooms_y * residents_per_room"
   ]
  },
  {
   "cell_type": "code",
   "execution_count": 3,
   "metadata": {},
   "outputs": [
    {
     "data": {
      "image/png": "[encoded data removed]",
      "text/plain": [
       "<Figure size 1080x432 with 1 Axes>"
      ]
     },
     "metadata": {
      "needs_background": "light"
     },
     "output_type": "display_data"
    }
   ],
   "source": [
    "resident_index = 0\n",
    "resident_coords = np.empty((n_residents, 2))\n",
    "for x in range(rooms_x):\n",
    "    for y in range(rooms_y):\n",
    "        for z in range(residents_per_room):\n",
    "            x_temp = x  - (rooms_x - 1) / 2\n",
    "            y_temp = y  - (rooms_y - 1) / 2\n",
    "            resident_coords[resident_index] = np.array(\n",
    "                [room_distance * x_temp + np.sign(x_temp) * corridor_width / 2,\n",
    "                 room_distance * y_temp]\n",
    "            )\n",
    "            resident_index += 1\n",
    "\n",
    "plt.rcParams[\"figure.figsize\"] = (15, 6);\n",
    "plt.scatter(resident_coords[:, 0], resident_coords[:, 1])\n",
    "plt.gca().set(xlim=(-30, 30), ylim=(-6, 6))\n",
    "plt.xlabel(\"x\")\n",
    "plt.ylabel(\"y\");"
   ]
  },
  {
   "cell_type": "markdown",
   "metadata": {},
   "source": [
    "Let us define the required parameters."
   ]
  },
  {
   "cell_type": "code",
   "execution_count": 4,
   "metadata": {},
   "outputs": [],
   "source": [
    "timestep = 0.1\n",
    "# Probability of a roommate getting exposed\n",
    "infection_p_roommate = 1 / 5 * timestep\n",
    "# Probability of a friend neighbour getting exposed\n",
    "infection_p_friend = 1 / 7 * timestep\n",
    "# Probability of a closest neighbour getting exposed\n",
    "infection_p_max = 1 / 14 * timestep\n",
    "# Probability of exposed getting infected within a timestep\n",
    "p_infect = 0.8 * timestep\n",
    "# Probability of recovery within a timestep\n",
    "p_recover = 0.2 * timestep\n",
    "# We simulate for 70 days\n",
    "n_iterations= int(70 / timestep)\n",
    "# Number of friendships in total population\n",
    "friendships = 10"
   ]
  },
  {
   "cell_type": "code",
   "execution_count": 5,
   "metadata": {},
   "outputs": [],
   "source": [
    "def p_infection(infection_p_max, distance):\n",
    "    if distance == 0:\n",
    "        return infection_p_roommate\n",
    "    return min(infection_p_max, infection_p_max * room_distance / distance)"
   ]
  },
  {
   "cell_type": "markdown",
   "metadata": {},
   "source": [
    "Now we can build the matrix representing disease transmission probabilities."
   ]
  },
  {
   "cell_type": "code",
   "execution_count": 6,
   "metadata": {},
   "outputs": [
    {
     "data": {
      "image/png": "[encoded data removed]",
      "text/plain": [
       "<Figure size 1080x432 with 2 Axes>"
      ]
     },
     "metadata": {
      "needs_background": "light"
     },
     "output_type": "display_data"
    }
   ],
   "source": [
    "def distance(x1, x2):\n",
    "    return np.linalg.norm(x1 - x2, 2)\n",
    "\n",
    "p_matrix = np.zeros((n_residents, n_residents))\n",
    "for i in range(p_matrix.shape[0]):\n",
    "    for j in range(p_matrix.shape[1]):\n",
    "        if i != j:\n",
    "            p_matrix[i, j] = p_infection(infection_p_max, distance(resident_coords[i], resident_coords[j]))\n",
    "\n",
    "for i in range(friendships):\n",
    "    index_1, index_2 = np.random.choice(n_residents, 2, replace=False)\n",
    "    p_matrix[index_1, index_2] = infection_p_friend\n",
    "    p_matrix[index_2, index_1] = infection_p_friend\n",
    "\n",
    "plt.imshow(p_matrix)\n",
    "plt.colorbar();\n",
    "#plt.title(\"Transmission probabilities between residents with time step of 0.1 days\")"
   ]
  },
  {
   "cell_type": "markdown",
   "metadata": {},
   "source": [
    "The function defining the simulation."
   ]
  },
  {
   "cell_type": "code",
   "execution_count": 7,
   "metadata": {},
   "outputs": [],
   "source": [
    "def run_simulation(n_initial_exposed, p_matrix, p_infect, p_recover, n_iterations):\n",
    "    exposed_residents = np.random.choice(n_residents, n_initial_exposed, replace=False).tolist()\n",
    "    infected_residents = []\n",
    "    recovered_residents = []\n",
    "    susceptible_residents = []\n",
    "    for resident in range(n_residents):\n",
    "        if resident not in exposed_residents and\\\n",
    "            resident not in infected_residents and\\\n",
    "            resident not in recovered_residents:\n",
    "            susceptible_residents.append(resident)\n",
    "\n",
    "    n_susceptible_history = [len(susceptible_residents)]\n",
    "    n_exposed_history = [len(exposed_residents)]\n",
    "    n_infected_history = [len(infected_residents)]\n",
    "    n_recovered_history = [len(recovered_residents)]\n",
    "    infected_history = []\n",
    "\n",
    "    for n in range(n_iterations):\n",
    "        for infected in infected_residents:\n",
    "            if np.random.rand() < p_recover:\n",
    "                infected_residents.remove(infected)\n",
    "                recovered_residents.append(infected)\n",
    "        for exposed in exposed_residents:\n",
    "            if np.random.rand() < p_infect:\n",
    "                exposed_residents.remove(exposed)\n",
    "                infected_residents.append(exposed)\n",
    "        for infected in infected_residents:\n",
    "            for target in range(n_residents):\n",
    "                if (infected != target and target in susceptible_residents and\n",
    "                    np.random.rand() < p_matrix[infected, target]):\n",
    "                    susceptible_residents.remove(target)\n",
    "                    exposed_residents.append(target)\n",
    "\n",
    "        n_susceptible_history.append(len(susceptible_residents))\n",
    "        n_exposed_history.append(len(exposed_residents))\n",
    "        n_infected_history.append(len(infected_residents))\n",
    "        n_recovered_history.append(len(recovered_residents))\n",
    "        infected_history.append(infected_residents.copy())\n",
    "    \n",
    "    return {\n",
    "        'n_susceptible_history': n_susceptible_history,\n",
    "        'n_exposed_history': n_exposed_history,\n",
    "        'n_infected_history': n_infected_history,\n",
    "        'n_recovered_history': n_recovered_history,\n",
    "        'infected_history': infected_history\n",
    "    }"
   ]
  },
  {
   "cell_type": "markdown",
   "metadata": {},
   "source": [
    "Let us run the simulation for 1000 times."
   ]
  },
  {
   "cell_type": "code",
   "execution_count": null,
   "metadata": {},
   "outputs": [
    {
     "name": "stdout",
     "output_type": "stream",
     "text": [
      "55.6% done\n"
     ]
    }
   ],
   "source": [
    "results = []\n",
    "n_simulations = 1000\n",
    "for i in range(n_simulations):\n",
    "    print(f\"{100 * (i + 1) / n_simulations}% done\")\n",
    "    clear_output(wait=True)\n",
    "    results.append(\n",
    "        run_simulation(\n",
    "            n_initial_exposed=1,\n",
    "            p_matrix=p_matrix,\n",
    "            p_infect=p_infect,\n",
    "            p_recover=p_recover,\n",
    "            n_iterations=n_iterations\n",
    "        )\n",
    "    )"
   ]
  },
  {
   "cell_type": "markdown",
   "metadata": {},
   "source": [
    "Now let us plot the number of infected as a function of time for first 20 simulations."
   ]
  },
  {
   "cell_type": "code",
   "execution_count": null,
   "metadata": {},
   "outputs": [],
   "source": [
    "for result in results[:20]:\n",
    "    plt.plot(\n",
    "        np.arange(0, len(result['n_infected_history'])) * timestep,\n",
    "        result['n_infected_history']\n",
    "    )\n",
    "plt.ylabel(\"Amount of infected individuals\")\n",
    "plt.xlabel(\"Day\");"
   ]
  },
  {
   "cell_type": "markdown",
   "metadata": {},
   "source": [
    "Then let us plot the estimated probability distribution for total amount of people getting infected during the course of a epidemic."
   ]
  },
  {
   "cell_type": "code",
   "execution_count": null,
   "metadata": {
    "scrolled": false
   },
   "outputs": [],
   "source": [
    "infected = []\n",
    "for result in results:\n",
    "    infected.append(n_residents - result['n_susceptible_history'][-1])\n",
    "\n",
    "plt.hist(infected, bins=48, density=True);\n",
    "plt.gca().set(xlim=(1, 48));\n",
    "plt.xlabel(\"Amount of people infected during the course of epidemic\")\n",
    "plt.ylabel(\"Probability\");"
   ]
  },
  {
   "cell_type": "markdown",
   "metadata": {},
   "source": [
    "Then let us draw a interact plot of infection spreading in the dormitory. Using the slider one can choose the time instant."
   ]
  },
  {
   "cell_type": "code",
   "execution_count": null,
   "metadata": {},
   "outputs": [],
   "source": [
    "simulation_index = 0\n",
    "\n",
    "infected_history = results[simulation_index]['infected_history']\n",
    "\n",
    "def draw_time_instant(time_instant):\n",
    "    timestep_index = int(time_instant / timestep)\n",
    "    result = infected_history[timestep_index]\n",
    "    infected_coords = resident_coords[result]\n",
    "    plt.scatter(infected_coords[:, 0], infected_coords[:, 1], alpha=0.4)\n",
    "    plt.gca().set(xlim=(-40, 40), ylim=(-6, 6))\n",
    "    plt.show()\n",
    "    print(f\"Epidemic after {time_instant} days.\")\n",
    "\n",
    "interact(\n",
    "    draw_time_instant,\n",
    "    time_instant=widgets.FloatSlider(\n",
    "        min=0,\n",
    "        max=n_iterations * timestep,\n",
    "        step=timestep,\n",
    "        value=0,\n",
    "        continuous_update=True,\n",
    "        description=\"Days\"\n",
    "    )\n",
    ");"
   ]
  }
 ],
 "metadata": {
  "kernelspec": {
   "display_name": "Python 3",
   "language": "python",
   "name": "python3"
  },
  "language_info": {
   "codemirror_mode": {
    "name": "ipython",
    "version": 3
   },
   "file_extension": ".py",
   "mimetype": "text/x-python",
   "name": "python",
   "nbconvert_exporter": "python",
   "pygments_lexer": "ipython3",
   "version": "3.7.4"
  }
 },
 "nbformat": 4,
 "nbformat_minor": 2
}
